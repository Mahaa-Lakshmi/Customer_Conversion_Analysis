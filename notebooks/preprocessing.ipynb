{
 "cells": [
  {
   "cell_type": "code",
   "execution_count": 8,
   "metadata": {},
   "outputs": [],
   "source": [
    "import pandas as pd\n",
    "\n",
    "train_data = pd.read_csv(\"\"\"E:/AI engineer/Guvi/Capstone Projects/Project4/Customer_Conversion_Analysis/data/train.csv\"\"\")"
   ]
  },
  {
   "cell_type": "code",
   "execution_count": 1,
   "metadata": {},
   "outputs": [
    {
     "name": "stdout",
     "output_type": "stream",
     "text": [
      "e:\\AI engineer\\Guvi\\Capstone Projects\\Project4\\Customer_Conversion_Analysis\\venv\\Scripts\\python.exe\n"
     ]
    }
   ],
   "source": [
    "import sys\n",
    "print(sys.executable)"
   ]
  },
  {
   "cell_type": "markdown",
   "metadata": {},
   "source": [
    "Description of Data"
   ]
  },
  {
   "cell_type": "code",
   "execution_count": 9,
   "metadata": {},
   "outputs": [
    {
     "name": "stdout",
     "output_type": "stream",
     "text": [
      "<class 'pandas.core.frame.DataFrame'>\n",
      "RangeIndex: 132379 entries, 0 to 132378\n",
      "Data columns (total 14 columns):\n",
      " #   Column                Non-Null Count   Dtype \n",
      "---  ------                --------------   ----- \n",
      " 0   year                  132379 non-null  int64 \n",
      " 1   month                 132379 non-null  int64 \n",
      " 2   day                   132379 non-null  int64 \n",
      " 3   order                 132379 non-null  int64 \n",
      " 4   country               132379 non-null  int64 \n",
      " 5   session_id            132379 non-null  int64 \n",
      " 6   page1_main_category   132379 non-null  int64 \n",
      " 7   page2_clothing_model  132379 non-null  object\n",
      " 8   colour                132379 non-null  int64 \n",
      " 9   location              132379 non-null  int64 \n",
      " 10  model_photography     132379 non-null  int64 \n",
      " 11  price                 132379 non-null  int64 \n",
      " 12  price_2               132379 non-null  int64 \n",
      " 13  page                  132379 non-null  int64 \n",
      "dtypes: int64(13), object(1)\n",
      "memory usage: 14.1+ MB\n"
     ]
    }
   ],
   "source": [
    "train_data.info()"
   ]
  },
  {
   "cell_type": "code",
   "execution_count": 10,
   "metadata": {},
   "outputs": [
    {
     "data": {
      "text/html": [
       "<div>\n",
       "<style scoped>\n",
       "    .dataframe tbody tr th:only-of-type {\n",
       "        vertical-align: middle;\n",
       "    }\n",
       "\n",
       "    .dataframe tbody tr th {\n",
       "        vertical-align: top;\n",
       "    }\n",
       "\n",
       "    .dataframe thead th {\n",
       "        text-align: right;\n",
       "    }\n",
       "</style>\n",
       "<table border=\"1\" class=\"dataframe\">\n",
       "  <thead>\n",
       "    <tr style=\"text-align: right;\">\n",
       "      <th></th>\n",
       "      <th>year</th>\n",
       "      <th>month</th>\n",
       "      <th>day</th>\n",
       "      <th>order</th>\n",
       "      <th>country</th>\n",
       "      <th>session_id</th>\n",
       "      <th>page1_main_category</th>\n",
       "      <th>page2_clothing_model</th>\n",
       "      <th>colour</th>\n",
       "      <th>location</th>\n",
       "      <th>model_photography</th>\n",
       "      <th>price</th>\n",
       "      <th>price_2</th>\n",
       "      <th>page</th>\n",
       "    </tr>\n",
       "  </thead>\n",
       "  <tbody>\n",
       "    <tr>\n",
       "      <th>0</th>\n",
       "      <td>2008</td>\n",
       "      <td>6</td>\n",
       "      <td>22</td>\n",
       "      <td>21</td>\n",
       "      <td>29</td>\n",
       "      <td>15648</td>\n",
       "      <td>3</td>\n",
       "      <td>C20</td>\n",
       "      <td>13</td>\n",
       "      <td>1</td>\n",
       "      <td>2</td>\n",
       "      <td>48</td>\n",
       "      <td>1</td>\n",
       "      <td>2</td>\n",
       "    </tr>\n",
       "    <tr>\n",
       "      <th>1</th>\n",
       "      <td>2008</td>\n",
       "      <td>5</td>\n",
       "      <td>19</td>\n",
       "      <td>6</td>\n",
       "      <td>29</td>\n",
       "      <td>10018</td>\n",
       "      <td>2</td>\n",
       "      <td>B26</td>\n",
       "      <td>13</td>\n",
       "      <td>3</td>\n",
       "      <td>1</td>\n",
       "      <td>57</td>\n",
       "      <td>1</td>\n",
       "      <td>2</td>\n",
       "    </tr>\n",
       "    <tr>\n",
       "      <th>2</th>\n",
       "      <td>2008</td>\n",
       "      <td>7</td>\n",
       "      <td>15</td>\n",
       "      <td>2</td>\n",
       "      <td>29</td>\n",
       "      <td>19388</td>\n",
       "      <td>3</td>\n",
       "      <td>C13</td>\n",
       "      <td>9</td>\n",
       "      <td>5</td>\n",
       "      <td>1</td>\n",
       "      <td>48</td>\n",
       "      <td>1</td>\n",
       "      <td>1</td>\n",
       "    </tr>\n",
       "    <tr>\n",
       "      <th>3</th>\n",
       "      <td>2008</td>\n",
       "      <td>5</td>\n",
       "      <td>2</td>\n",
       "      <td>2</td>\n",
       "      <td>29</td>\n",
       "      <td>7181</td>\n",
       "      <td>2</td>\n",
       "      <td>B11</td>\n",
       "      <td>2</td>\n",
       "      <td>4</td>\n",
       "      <td>1</td>\n",
       "      <td>43</td>\n",
       "      <td>2</td>\n",
       "      <td>1</td>\n",
       "    </tr>\n",
       "    <tr>\n",
       "      <th>4</th>\n",
       "      <td>2008</td>\n",
       "      <td>6</td>\n",
       "      <td>9</td>\n",
       "      <td>16</td>\n",
       "      <td>29</td>\n",
       "      <td>13493</td>\n",
       "      <td>2</td>\n",
       "      <td>B31</td>\n",
       "      <td>9</td>\n",
       "      <td>5</td>\n",
       "      <td>1</td>\n",
       "      <td>57</td>\n",
       "      <td>1</td>\n",
       "      <td>2</td>\n",
       "    </tr>\n",
       "  </tbody>\n",
       "</table>\n",
       "</div>"
      ],
      "text/plain": [
       "   year  month  day  order  country  session_id  page1_main_category  \\\n",
       "0  2008      6   22     21       29       15648                    3   \n",
       "1  2008      5   19      6       29       10018                    2   \n",
       "2  2008      7   15      2       29       19388                    3   \n",
       "3  2008      5    2      2       29        7181                    2   \n",
       "4  2008      6    9     16       29       13493                    2   \n",
       "\n",
       "  page2_clothing_model  colour  location  model_photography  price  price_2  \\\n",
       "0                  C20      13         1                  2     48        1   \n",
       "1                  B26      13         3                  1     57        1   \n",
       "2                  C13       9         5                  1     48        1   \n",
       "3                  B11       2         4                  1     43        2   \n",
       "4                  B31       9         5                  1     57        1   \n",
       "\n",
       "   page  \n",
       "0     2  \n",
       "1     2  \n",
       "2     1  \n",
       "3     1  \n",
       "4     2  "
      ]
     },
     "execution_count": 10,
     "metadata": {},
     "output_type": "execute_result"
    }
   ],
   "source": [
    "train_data.head()"
   ]
  },
  {
   "cell_type": "markdown",
   "metadata": {},
   "source": [
    "Data Preprocessing"
   ]
  },
  {
   "cell_type": "code",
   "execution_count": 12,
   "metadata": {},
   "outputs": [
    {
     "data": {
      "text/plain": [
       "year                    0\n",
       "month                   0\n",
       "day                     0\n",
       "order                   0\n",
       "country                 0\n",
       "session_id              0\n",
       "page1_main_category     0\n",
       "page2_clothing_model    0\n",
       "colour                  0\n",
       "location                0\n",
       "model_photography       0\n",
       "price                   0\n",
       "price_2                 0\n",
       "page                    0\n",
       "dtype: int64"
      ]
     },
     "execution_count": 12,
     "metadata": {},
     "output_type": "execute_result"
    }
   ],
   "source": [
    "# Check for missing values\n",
    "train_data.isnull().sum()"
   ]
  },
  {
   "cell_type": "code",
   "execution_count": null,
   "metadata": {},
   "outputs": [],
   "source": []
  }
 ],
 "metadata": {
  "kernelspec": {
   "display_name": "venv",
   "language": "python",
   "name": "python3"
  },
  "language_info": {
   "codemirror_mode": {
    "name": "ipython",
    "version": 3
   },
   "file_extension": ".py",
   "mimetype": "text/x-python",
   "name": "python",
   "nbconvert_exporter": "python",
   "pygments_lexer": "ipython3",
   "version": "3.12.7"
  }
 },
 "nbformat": 4,
 "nbformat_minor": 2
}
